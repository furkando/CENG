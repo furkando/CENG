{
 "cells": [
  {
   "cell_type": "markdown",
   "metadata": {},
   "source": [
    "# CENG 384 - Programming Assignment\n",
    "\n",
    "In this homework, you will display and analyze sound signals in the time domain and in the frequency domain. The tasks and explanations are provided in the form of a Jupyter Notebook file, which you can download from <a href=\"https://colab.research.google.com/drive/19TGCQ1FdgSVQNX1PFnKhoS3uxSoJ_UnB\">here</a>. To see it with the drawings, you should run it in the directory you can download from the COW page of the course.\n",
    "\n",
    "### Sound samples and the Python file\n",
    "\n",
    "The sound samples that you can use in this assignment and a Python starter file are provided to you at the COW page of the course.\n",
    "\n",
    "### Submission instructions\n",
    "\n",
    "Run file `collect_submission.sh`, which will create you a `ceng384_pHW.zip` file. Upload this file at the COW page of the course.\n",
    "  \n",
    "### Deadline\n",
    "\n",
    "17th of May, 23:55\n",
    "  \n",
    "### Testing Environment\n",
    "\n",
    "Your solutions will be tested on inek machines (running Ubuntu 18.04) with  Python v2.7. For the libraries, minimum requirements are: Numpy v1.11 , Matplotlib v1.5.1, Scipy 0.17."
   ]
  },
  {
   "cell_type": "code",
   "execution_count": null,
   "metadata": {},
   "outputs": [],
   "source": [
    "# Some setup utils\n",
    "import numpy as np\n",
    "import matplotlib.pyplot as plt\n",
    "import scipy\n",
    "\n",
    "%matplotlib inline\n",
    "plt.rcParams['figure.figsize'] = (10.0, 8.0) # set default size of plots\n",
    "plt.rcParams['image.interpolation'] = 'nearest'\n",
    "plt.rcParams['image.cmap'] = 'gray'\n",
    "\n",
    "# for auto-reloading external modules\n",
    "# see http://stackoverflow.com/questions/1907993/autoreload-of-modules-in-ipython\n",
    "%load_ext autoreload\n",
    "%autoreload 2"
   ]
  },
  {
   "cell_type": "markdown",
   "metadata": {},
   "source": [
    "# Warm-up: Generating, Plotting and Analyzing a Simple Signal\n",
    "\n",
    "Let us start warming up by generating a simple signal with the numpy library (check <a href=\"https://docs.scipy.org/doc/numpy/user/quickstart.html\">this</a> for a tutorial). Numpy is a very talented library for working with numerical data structures, like complex numbers, vectors, matrices etc.\n",
    "\n",
    "In the following cell, we will first construct a simple continuous-time signal:\n",
    "$$x(t) = \\cos(2\\pi t) + \\sin(40\\pi t).$$\n",
    "\n",
    "For plotting the signal, we will use the matplotlib library (check <a href=\"https://matplotlib.org/users/pyplot_tutorial.html\">this</a> for a tutorial)."
   ]
  },
  {
   "cell_type": "code",
   "execution_count": null,
   "metadata": {},
   "outputs": [],
   "source": [
    "t = np.arange(-2, 2, .01) # Sample a time interval between -2 and 2\n",
    "x = np.cos(2*np.pi*t)+np.sin(40*np.pi*t)\n",
    "\n",
    "plt.plot(t, x)\n",
    "plt.xlabel('Time (t)')\n",
    "plt.ylabel('Amplitude')\n",
    "plt.title('$x(t) = \\cos(2\\pi t) + \\sin(40\\pi t)$')"
   ]
  },
  {
   "cell_type": "markdown",
   "metadata": {},
   "source": [
    "See, that's very easy. You can just construct any signal in this manner and plot it.\n",
    "\n",
    "In the previous step, we actually constructed a discrete-time signal and drew that as if it were a continuous-time signal. Now, let us directly work with a discrete-time signal.\n",
    "\n",
    "In the following cell, we will construct and plot a simple discrete-time signal:\n",
    "$$x[n] = \\cos[0.1 \\pi n].$$"
   ]
  },
  {
   "cell_type": "code",
   "execution_count": null,
   "metadata": {},
   "outputs": [],
   "source": [
    "n = np.array(range(0, 100)) \n",
    "# np.linspace(0.1, 2*np.pi, 10)\n",
    "markerline, stemlines, baseline = plt.stem(n, np.cos(0.1 * np.pi * n), '-.')\n",
    "plt.setp(baseline,'linewidth', 2)\n",
    "plt.xlabel('Time ($n$)')\n",
    "plt.ylabel('Amplitude')\n",
    "plt.title('$x[n]=\\cos[0.1 \\pi n]$')\n",
    "plt.ylim(-1.2, 1.2)"
   ]
  },
  {
   "cell_type": "markdown",
   "metadata": {},
   "source": [
    "Nice! So colorful and periodic :)"
   ]
  },
  {
   "cell_type": "markdown",
   "metadata": {},
   "source": [
    "# Serious Stuff: Load and Plot a WAV file\n",
    "\n",
    "A standard format for storing audio/sound signals is the Waveform Audio Format (WAV in short -- see <a href=\"https://en.wikipedia.org/wiki/WAV\">here</a> for more info). Don't worry, we will not ask you to load a WAV file from scratch. In the following step, we provide you a routine for loading and plotting a WAV file. \n",
    "\n",
    "Under `\"./sound_samples\"` directory, there are many other sound samples. Load them and check how they look."
   ]
  },
  {
   "cell_type": "code",
   "execution_count": null,
   "metadata": {},
   "outputs": [],
   "source": [
    "from ceng384_prog_hw import *\n",
    "\n",
    "filename = 'sound_samples/cat.wav'\n",
    "\n",
    "# Create a Sound object\n",
    "signal = Sound(filename, verbose=True)\n",
    "\n",
    "# Let us plot our signal\n",
    "signal.plot_sound()"
   ]
  },
  {
   "cell_type": "markdown",
   "metadata": {},
   "source": [
    "# The Discrete Fourier Transform\n",
    "\n",
    "The sound signal that you have just loaded and plotted is a discrete-time, finite-interval signal. We can transform such signals into the frequency domain using Discrete Fourier Transform, defined as follows:\n",
    "\n",
    "$$\n",
    "X[k] = \\displaystyle\\sum_{n = 0}^{N-1}x[n] e^{-jk\\frac{2\\pi}{N}n}  ,  \\quad\\quad   k = 0,1,2,...,N-1\n",
    "$$\n",
    "\n",
    "where $N$ is the length (the number of samples) of our signal $x$."
   ]
  },
  {
   "cell_type": "markdown",
   "metadata": {},
   "source": [
    "# Task 1: Implement Fourier Transform\n",
    "\n",
    "Open file `\"ceng384_prog_hw.py\"` and complete the implementation of function \"dft\". "
   ]
  },
  {
   "cell_type": "code",
   "execution_count": null,
   "metadata": {},
   "outputs": [],
   "source": [
    "signal = Sound(filename)\n",
    "\n",
    "# Let us test your function with the first 100 values of the sound signal\n",
    "x = signal.data[0:100] \n",
    "dft_naive = dft(x)"
   ]
  },
  {
   "cell_type": "markdown",
   "metadata": {},
   "source": [
    "### Check your implementation\n",
    "Using the Fast Fourier Transform (FFT) implementation of the Numpy library, let us check how good your implementation was."
   ]
  },
  {
   "cell_type": "code",
   "execution_count": null,
   "metadata": {},
   "outputs": [],
   "source": [
    "# FFT from Numpy:\n",
    "tic()\n",
    "dft_fast = np.fft.fft(x)\n",
    "toc()\n",
    "tic()\n",
    "dft_naive = dft(x) # No need to recalculate, but let's repeat it just for clarity\n",
    "toc()\n",
    "\n",
    "# You should see a total difference less than 10^-10\n",
    "error = 0\n",
    "for i in range(len(dft_naive)):\n",
    "    error += np.abs(dft_naive[i]-dft_fast[i])\n",
    "print \"The difference (Euclidean distance) is: \", error\n",
    "print \"Your are good to go!\" if error < 10**-10 else \"FAILED! Your implementation has too much error. Go back and check for errors\""
   ]
  },
  {
   "cell_type": "markdown",
   "metadata": {},
   "source": [
    "# Spectograms\n",
    "\n",
    "Since sound signals can be too long, composed of many small-segment units of sounds, analyzing a whole sound signal with a single set of spectrum is not practical. A good spectral tool for sound signals is to use a spectogram. \n",
    "\n",
    "A spectogram is essentially a matrix composed of DFT of small intervals of the input. Formally, the spectogram $\\mathcal{S}\\{x[n]\\}$ can be calculated as follows:\n",
    "\n",
    "$$\\mathcal{S}\\{x[n]\\}[i] = \\mathcal{F}\\{x[i\\times s:i\\times s+W]\\},$$\n",
    "\n",
    "where $W$ is the length of the interval for which we are calculating the DFT, and $\\mathcal{F}\\{x[n]\\}$ is the DFT of $x[n]$. This is illustrated in the following drawing.\n",
    "\n",
    "<img src=\"spectogram_sekil.png\" width=\"50%\">\n",
    "\n",
    "According to this definition, $\\mathcal{S}[0]$ is a vector composed of the DFT of $x[0:W-1]$, and $\\mathcal{S}[1]$ is then the DFT of $x[s:s+W-1]$. \n",
    "\n",
    "The \"jump\" amount between window positions, $s$, is called the stride."
   ]
  },
  {
   "cell_type": "markdown",
   "metadata": {},
   "source": [
    "# Task 2: Calculate Spectogram\n",
    "\n",
    "Open file `\"ceng384_prog_hw.py\"` again and complete the implementation of function \"calculate_spectogram\". Note that the function takes a DFT calculating function as an argument. When you pass your dft() function as an argument, you will realize that it is very very slow. To speed things up, we will continue with the FFT function from numpy."
   ]
  },
  {
   "cell_type": "code",
   "execution_count": null,
   "metadata": {
    "scrolled": false
   },
   "outputs": [],
   "source": [
    "window_size = 500\n",
    "stride = 100\n",
    "x = signal.data\n",
    "Fs = signal.sampling_rate \n",
    "duration = signal.duration\n",
    "\n",
    "tic()\n",
    "S = calculate_spectogram(x, window_size=window_size, stride=stride, dft_function=np.fft.fft)\n",
    "toc()\n",
    "\n",
    "# Let's print the shape of spectogram just to make things clear\n",
    "print \"S.shape: \", S.shape"
   ]
  },
  {
   "cell_type": "markdown",
   "metadata": {},
   "source": [
    "## Plotting the Spectograms\n",
    "\n",
    "Now let us plot the spectogram. For visualization purposes, we will do many tricks:\n",
    "\n",
    "1) Since the Fourier Transform is complex, we will just look at the magnitude.\n",
    "\n",
    "2) Since the Discrete Fourier Transform is symmetric, we will just visualize a half.\n",
    "\n",
    "3) We will use a logarithmic scale (in terms of decibels) for the magnitude, to better see the whole range.\n",
    "\n",
    "Although these steps make the main frequencies/components more visible, they may also exaggerate the small components which may appear as artifacts."
   ]
  },
  {
   "cell_type": "code",
   "execution_count": null,
   "metadata": {},
   "outputs": [],
   "source": [
    "plot_spectogram(S, stride, window_size, duration=duration, Fs=Fs)"
   ]
  },
  {
   "cell_type": "markdown",
   "metadata": {},
   "source": [
    "# Analyze some signals"
   ]
  },
  {
   "cell_type": "code",
   "execution_count": null,
   "metadata": {},
   "outputs": [],
   "source": [
    "def analyze_sound(filename, name):\n",
    "    signal = Sound(filename)\n",
    "    signal.plot_sound(name)\n",
    "    x = signal.data\n",
    "    Fs = signal.sampling_rate\n",
    "    duration = signal.duration\n",
    "    \n",
    "    S = calculate_spectogram(x, window_size=window_size, stride=stride, dft_function=np.fft.fft)\n",
    "    plot_spectogram(S, stride, window_size, duration=duration, Fs=Fs, name=name)\n",
    "\n",
    "window_size = 500\n",
    "stride = 100\n",
    "\n",
    "# Cat sound\n",
    "cat_sound_filename = 'sound_samples/cat.wav'\n",
    "analyze_sound(cat_sound_filename, \"Cat\")\n",
    "\n",
    "# Dog sound\n",
    "cow_sound_filename = 'sound_samples/dog.wav'\n",
    "analyze_sound(cow_sound_filename, \"Dog\")\n",
    "\n",
    "# Cow sound\n",
    "cow_sound_filename = 'sound_samples/cow.wav'\n",
    "analyze_sound(cow_sound_filename, \"Cow\")"
   ]
  },
  {
   "cell_type": "markdown",
   "metadata": {},
   "source": [
    "Let's look at a human sound sample"
   ]
  },
  {
   "cell_type": "code",
   "execution_count": null,
   "metadata": {},
   "outputs": [],
   "source": [
    "# Female hello sound\n",
    "female_sound_filename = 'sound_samples/hello_female.wav'\n",
    "analyze_sound(female_sound_filename, \"Female\")"
   ]
  },
  {
   "cell_type": "markdown",
   "metadata": {},
   "source": [
    "# Task 3: Discussion\n",
    "\n",
    "1) What do you see in the time domain for the sample sounds that you have analyzed above?\n",
    "\n",
    "...write your answer here...\n",
    "\n",
    "2) What do you see in the frequency domain for the sample sounds that you have analyzed above?\n",
    "\n",
    "...write your answer here..."
   ]
  }
 ],
 "metadata": {
  "kernelspec": {
   "display_name": "Python 3",
   "language": "python",
   "name": "python3"
  },
  "language_info": {
   "codemirror_mode": {
    "name": "ipython",
    "version": 3
   },
   "file_extension": ".py",
   "mimetype": "text/x-python",
   "name": "python",
   "nbconvert_exporter": "python",
   "pygments_lexer": "ipython3",
   "version": "3.6.3"
  }
 },
 "nbformat": 4,
 "nbformat_minor": 1
}
